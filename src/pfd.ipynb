{
 "cells": [
  {
   "cell_type": "code",
   "execution_count": 1,
   "metadata": {
    "scrolled": true
   },
   "outputs": [],
   "source": [
    "from pfd import *\n",
    "from extra import *"
   ]
  },
  {
   "cell_type": "markdown",
   "metadata": {},
   "source": [
    "### Experiment 1: PFD Discovery\n",
    "This experiment show how good our method is in discovering dependencies.\n",
    "We used the public data sets."
   ]
  },
  {
   "cell_type": "markdown",
   "metadata": {},
   "source": [
    "#### For these experiment, you need to install additional Python packages:\n",
    "    1- json\n",
    "    2- requests                 # https://pypi.org/project/requests/\n",
    "    3- uszipcode               # https://pypi.org/project/uszipcode/\n",
    "    4- re                      # https://pypi.org/project/regex/\n",
    "    5- api                     # https://pypi.org/project/pip-api/\n",
    "    6- pandas\n",
    "    7- numpy"
   ]
  },
  {
   "cell_type": "markdown",
   "metadata": {},
   "source": [
    "#### 1.1: data.gov"
   ]
  },
  {
   "cell_type": "code",
   "execution_count": 2,
   "metadata": {},
   "outputs": [],
   "source": [
    "#  set the parameters and call the dicovery api\n",
    "main_dir = \"../data/\"\n",
    "repo = \"DGOV\"\n",
    "data_dir = os.path.join(main_dir, repo)\n",
    "param_dict = dict()\n",
    "param_dict[\"data_dir\"] = data_dir\n",
    "param_dict[\"repo\"] = repo\n",
    "param_dict[\"results_main_dir\"] = \"Results/\"\n",
    "param_dict[\"min_acceptable_coverage\"] = 0.1        # minimum coverage of 10%\n",
    "param_dict[\"confidence_K\"] = 6\n",
    "param_dict[\"allowed_noise_delta\"] = 1"
   ]
  },
  {
   "cell_type": "code",
   "execution_count": 3,
   "metadata": {},
   "outputs": [
    {
     "name": "stdout",
     "output_type": "stream",
     "text": [
      "Time spent to process table (6397-1.csv) is (124.26550006866455)\n",
      "Time spent to process table (10492-1.csv) is (9.239680051803589)\n",
      "Time spent to process table (6339-1.csv) is (2.3712613582611084)\n",
      "Time spent to process table (10642-1.csv) is (6.690538167953491)\n",
      "Time spent to process table (570-1.csv) is (24.75714111328125)\n",
      "===============Done===============\n",
      "Total spent time =  167.35534405708313\n"
     ]
    }
   ],
   "source": [
    "# find the dependencies\n",
    "tot_time_start = time.time()\n",
    "if not os.path.exists(data_dir):\n",
    "    print(\"Error .. data directory does not exist\")\n",
    "else:\n",
    "    find_dependencies(param_dict)\n",
    "print(\"===============Done===============\")\n",
    "tot_time_end = time.time()\n",
    "total_spent_time = tot_time_end - tot_time_start\n",
    "print(\"Total spent time = \", total_spent_time)"
   ]
  },
  {
   "cell_type": "code",
   "execution_count": 4,
   "metadata": {},
   "outputs": [
    {
     "data": {
      "text/html": [
       "<div>\n",
       "<style scoped>\n",
       "    .dataframe tbody tr th:only-of-type {\n",
       "        vertical-align: middle;\n",
       "    }\n",
       "\n",
       "    .dataframe tbody tr th {\n",
       "        vertical-align: top;\n",
       "    }\n",
       "\n",
       "    .dataframe thead th {\n",
       "        text-align: right;\n",
       "    }\n",
       "</style>\n",
       "<table border=\"1\" class=\"dataframe\">\n",
       "  <thead>\n",
       "    <tr style=\"text-align: right;\">\n",
       "      <th></th>\n",
       "      <th>dataset</th>\n",
       "      <th># dep</th>\n",
       "      <th>Precision (P)</th>\n",
       "      <th>Recall (R)</th>\n",
       "    </tr>\n",
       "  </thead>\n",
       "  <tbody>\n",
       "    <tr>\n",
       "      <th>0</th>\n",
       "      <td>6397-1.csv</td>\n",
       "      <td>16</td>\n",
       "      <td>100.000000</td>\n",
       "      <td>84.210526</td>\n",
       "    </tr>\n",
       "    <tr>\n",
       "      <th>1</th>\n",
       "      <td>10492-1.csv</td>\n",
       "      <td>16</td>\n",
       "      <td>68.750000</td>\n",
       "      <td>100.000000</td>\n",
       "    </tr>\n",
       "    <tr>\n",
       "      <th>2</th>\n",
       "      <td>6339-1.csv</td>\n",
       "      <td>8</td>\n",
       "      <td>100.000000</td>\n",
       "      <td>80.000000</td>\n",
       "    </tr>\n",
       "    <tr>\n",
       "      <th>3</th>\n",
       "      <td>10642-1.csv</td>\n",
       "      <td>10</td>\n",
       "      <td>90.000000</td>\n",
       "      <td>81.818182</td>\n",
       "    </tr>\n",
       "    <tr>\n",
       "      <th>4</th>\n",
       "      <td>570-1.csv</td>\n",
       "      <td>15</td>\n",
       "      <td>33.333333</td>\n",
       "      <td>100.000000</td>\n",
       "    </tr>\n",
       "  </tbody>\n",
       "</table>\n",
       "</div>"
      ],
      "text/plain": [
       "       dataset  # dep  Precision (P)  Recall (R)\n",
       "0   6397-1.csv     16     100.000000   84.210526\n",
       "1  10492-1.csv     16      68.750000  100.000000\n",
       "2   6339-1.csv      8     100.000000   80.000000\n",
       "3  10642-1.csv     10      90.000000   81.818182\n",
       "4    570-1.csv     15      33.333333  100.000000"
      ]
     },
     "execution_count": 4,
     "metadata": {},
     "output_type": "execute_result"
    }
   ],
   "source": [
    "# get the precision and the recall for the reported dependecies\n",
    "res_df = get_P_R(param_dict)\n",
    "res_df"
   ]
  },
  {
   "cell_type": "markdown",
   "metadata": {},
   "source": [
    "#### 1.2: The chemical data"
   ]
  },
  {
   "cell_type": "code",
   "execution_count": 5,
   "metadata": {},
   "outputs": [],
   "source": [
    "#  set the parameters and call the dicovery api\n",
    "main_dir = \"../data/\"\n",
    "repo = \"CHE\"\n",
    "data_dir = os.path.join(main_dir, repo)\n",
    "param_dict = dict()\n",
    "param_dict[\"data_dir\"] = data_dir\n",
    "param_dict[\"repo\"] = repo\n",
    "param_dict[\"results_main_dir\"] = \"Results/\"\n",
    "param_dict[\"min_acceptable_coverage\"] = 0.1        # minimum coverage of 10%\n",
    "param_dict[\"confidence_K\"] = 6\n",
    "param_dict[\"allowed_noise_delta\"] = 1"
   ]
  },
  {
   "cell_type": "code",
   "execution_count": 6,
   "metadata": {},
   "outputs": [
    {
     "name": "stdout",
     "output_type": "stream",
     "text": [
      "Time spent to process table (metabolism_refs.csv) is (3.567234992980957)\n",
      "Time spent to process table (research_companies.csv) is (0.20071911811828613)\n",
      "Time spent to process table (mechanism_refs.csv) is (28.748229265213013)\n",
      "Time spent to process table (variant_sequences.csv) is (0.5504739284515381)\n",
      "Time spent to process table (protein_classification.csv) is (4.555854082107544)\n",
      "===============Done===============\n",
      "Total spent time =  37.63027596473694\n"
     ]
    }
   ],
   "source": [
    "# find the dependencies\n",
    "tot_time_start = time.time()\n",
    "if not os.path.exists(data_dir):\n",
    "    print(\"Error .. data directory does not exist\")\n",
    "else:\n",
    "    find_dependencies(param_dict)\n",
    "print(\"===============Done===============\")\n",
    "tot_time_end = time.time()\n",
    "total_spent_time = tot_time_end - tot_time_start\n",
    "print(\"Total spent time = \", total_spent_time)"
   ]
  },
  {
   "cell_type": "code",
   "execution_count": 7,
   "metadata": {},
   "outputs": [
    {
     "data": {
      "text/html": [
       "<div>\n",
       "<style scoped>\n",
       "    .dataframe tbody tr th:only-of-type {\n",
       "        vertical-align: middle;\n",
       "    }\n",
       "\n",
       "    .dataframe tbody tr th {\n",
       "        vertical-align: top;\n",
       "    }\n",
       "\n",
       "    .dataframe thead th {\n",
       "        text-align: right;\n",
       "    }\n",
       "</style>\n",
       "<table border=\"1\" class=\"dataframe\">\n",
       "  <thead>\n",
       "    <tr style=\"text-align: right;\">\n",
       "      <th></th>\n",
       "      <th>dataset</th>\n",
       "      <th># dep</th>\n",
       "      <th>Precision (P)</th>\n",
       "      <th>Recall (R)</th>\n",
       "    </tr>\n",
       "  </thead>\n",
       "  <tbody>\n",
       "    <tr>\n",
       "      <th>0</th>\n",
       "      <td>metabolism_refs.csv</td>\n",
       "      <td>6</td>\n",
       "      <td>83.333333</td>\n",
       "      <td>100.0</td>\n",
       "    </tr>\n",
       "    <tr>\n",
       "      <th>1</th>\n",
       "      <td>research_companies.csv</td>\n",
       "      <td>1</td>\n",
       "      <td>100.000000</td>\n",
       "      <td>100.0</td>\n",
       "    </tr>\n",
       "    <tr>\n",
       "      <th>2</th>\n",
       "      <td>mechanism_refs.csv</td>\n",
       "      <td>5</td>\n",
       "      <td>100.000000</td>\n",
       "      <td>100.0</td>\n",
       "    </tr>\n",
       "    <tr>\n",
       "      <th>3</th>\n",
       "      <td>variant_sequences.csv</td>\n",
       "      <td>1</td>\n",
       "      <td>100.000000</td>\n",
       "      <td>100.0</td>\n",
       "    </tr>\n",
       "    <tr>\n",
       "      <th>4</th>\n",
       "      <td>protein_classification.csv</td>\n",
       "      <td>6</td>\n",
       "      <td>100.000000</td>\n",
       "      <td>100.0</td>\n",
       "    </tr>\n",
       "  </tbody>\n",
       "</table>\n",
       "</div>"
      ],
      "text/plain": [
       "                      dataset  # dep  Precision (P)  Recall (R)\n",
       "0         metabolism_refs.csv      6      83.333333       100.0\n",
       "1      research_companies.csv      1     100.000000       100.0\n",
       "2          mechanism_refs.csv      5     100.000000       100.0\n",
       "3       variant_sequences.csv      1     100.000000       100.0\n",
       "4  protein_classification.csv      6     100.000000       100.0"
      ]
     },
     "execution_count": 7,
     "metadata": {},
     "output_type": "execute_result"
    }
   ],
   "source": [
    "# get the precision and the recall for the reported dependecies\n",
    "res_df = get_P_R(param_dict)\n",
    "res_df"
   ]
  },
  {
   "cell_type": "markdown",
   "metadata": {},
   "source": [
    "### Experiment 2: PFD Validation\n",
    "This experiment show how good our method is in discovering the correct PFDs. \n",
    "We public data sets with verfiable PFDs. "
   ]
  },
  {
   "cell_type": "markdown",
   "metadata": {},
   "source": [
    "###### 2.1- (Name ==> Gender) "
   ]
  },
  {
   "cell_type": "code",
   "execution_count": 8,
   "metadata": {},
   "outputs": [
    {
     "name": "stdout",
     "output_type": "stream",
     "text": [
      "Time spent to process the dependency (Full Name) ==> (Gender) is (7.014309883117676)\n"
     ]
    }
   ],
   "source": [
    "# Full Name ==> Gender\n",
    "#  set the parameters and call the dicovery api\n",
    "params_dict = dict()\n",
    "params_dict[\"fname\"] = \"../data/pfd_validation/t1.csv\"\n",
    "params_dict[\"results_main_dir\"] = \"Name_Gender/\"\n",
    "params_dict[\"det\"] = \"Full_Name\"\n",
    "params_dict[\"dep\"] = \"Gender\"\n",
    "params_dict[\"min_acceptable_coverage\"] = 0.1        # minimum coverage of 10%\n",
    "params_dict[\"confidence_K\"] = 6\n",
    "params_dict[\"allowed_noise_delta\"] = 1\n",
    "params_dict[\"det_id\"] = [0]\n",
    "params_dict[\"dep_id\"] = [1]\n",
    "pfds_file_name = find_specific_pfds(params_dict)"
   ]
  },
  {
   "cell_type": "markdown",
   "metadata": {},
   "source": [
    "###### Be aware: \n",
    "The next api will take time becaue it require information online to validate the discovered PFDs"
   ]
  },
  {
   "cell_type": "code",
   "execution_count": 9,
   "metadata": {},
   "outputs": [
    {
     "name": "stdout",
     "output_type": "stream",
     "text": [
      "(Alex) is used for (male) with probability = 0.87\n",
      "(Kim) is used for (female) with probability = 0.88\n",
      "(Francis) is used for (male) with probability = 0.89\n",
      "(Lee) is used for (male) with probability = 0.75\n",
      "(Leslie) is used for (female) with probability = 0.88\n",
      "(Robin) is used for (female) with probability = 0.59\n",
      "(Michele) is used for (female) with probability = 0.7\n",
      "(Andrea) is used for (female) with probability = 0.79\n",
      "(Carroll) is used for (male) with probability = 0.6\n",
      "Correct =  392    Incorrect =  9 error rate =  97.75561097256858 %\n"
     ]
    }
   ],
   "source": [
    "validate_name_gender_pfds(pfds_file_name)"
   ]
  },
  {
   "cell_type": "markdown",
   "metadata": {},
   "source": [
    "###### 2.2- (Fax ==> State)"
   ]
  },
  {
   "cell_type": "code",
   "execution_count": 10,
   "metadata": {},
   "outputs": [
    {
     "name": "stdout",
     "output_type": "stream",
     "text": [
      "Time spent to process the dependency (FAX) ==> (STATE) is (3.5347912311553955)\n"
     ]
    }
   ],
   "source": [
    "# FAX ==> STATE\n",
    "#  set the parameters and call the dicovery api\n",
    "params_dict = dict()\n",
    "params_dict[\"fname\"] = \"../data/pfd_validation/t2.csv\"\n",
    "params_dict[\"results_main_dir\"] = \"Fax_State/\"\n",
    "params_dict[\"det\"] = \"FAX\"\n",
    "params_dict[\"dep\"] = \"State\"\n",
    "params_dict[\"min_acceptable_coverage\"] = 0.1        # minimum coverage of 10%\n",
    "params_dict[\"confidence_K\"] = 6\n",
    "params_dict[\"allowed_noise_delta\"] = 1\n",
    "params_dict[\"det_id\"] = [10]\n",
    "params_dict[\"dep_id\"] = [6]\n",
    "pfds_file_name = find_specific_pfds(params_dict)"
   ]
  },
  {
   "cell_type": "code",
   "execution_count": 11,
   "metadata": {},
   "outputs": [
    {
     "name": "stdout",
     "output_type": "stream",
     "text": [
      "312 PA |= ['IL']\n",
      "208 FR |= ['ID']\n",
      "517 CO |= ['MI']\n",
      "Correct =  173 \tIncorrect =  3 error rate = 1.70% \tAccuracy = 98.30 %\n"
     ]
    }
   ],
   "source": [
    "validate_fax_state_pfds(pfds_file_name)"
   ]
  },
  {
   "cell_type": "markdown",
   "metadata": {},
   "source": [
    "###### 2.3- (Zip Code ==> City) "
   ]
  },
  {
   "cell_type": "code",
   "execution_count": 12,
   "metadata": {},
   "outputs": [
    {
     "name": "stdout",
     "output_type": "stream",
     "text": [
      "Time spent to process the dependency (Zip) ==> (City) is (1.7823162078857422)\n"
     ]
    }
   ],
   "source": [
    "# Zip Code ==> City\n",
    "#  set the parameters and call the dicovery api\n",
    "params_dict = dict()\n",
    "params_dict[\"fname\"] = \"../data/pfd_validation/t3.csv\"\n",
    "params_dict[\"results_main_dir\"] = \"Zipcode_City/\"\n",
    "params_dict[\"det\"] = \"Zip\"\n",
    "params_dict[\"dep\"] = \"City\"\n",
    "params_dict[\"min_acceptable_coverage\"] = 0.1        # minimum coverage of 10%\n",
    "params_dict[\"confidence_K\"] = 6\n",
    "params_dict[\"allowed_noise_delta\"] = 1\n",
    "params_dict[\"det_id\"] = [4]\n",
    "params_dict[\"dep_id\"] = [2]\n",
    "pfds_file_name = find_specific_pfds(params_dict)"
   ]
  },
  {
   "cell_type": "code",
   "execution_count": 13,
   "metadata": {},
   "outputs": [
    {
     "name": "stdout",
     "output_type": "stream",
     "text": [
      "Correct =  26 \tIncorrect =  0 error rate = 0.00% \tAccuracy = 100.00 %\n"
     ]
    }
   ],
   "source": [
    "validate_zip_city_pfds(pfds_file_name)"
   ]
  },
  {
   "cell_type": "code",
   "execution_count": null,
   "metadata": {},
   "outputs": [],
   "source": []
  }
 ],
 "metadata": {
  "kernelspec": {
   "display_name": "Python 2",
   "language": "python",
   "name": "python2"
  },
  "language_info": {
   "codemirror_mode": {
    "name": "ipython",
    "version": 3
   },
   "file_extension": ".py",
   "mimetype": "text/x-python",
   "name": "python",
   "nbconvert_exporter": "python",
   "pygments_lexer": "ipython3",
   "version": "3.7.1"
  }
 },
 "nbformat": 4,
 "nbformat_minor": 1
}
